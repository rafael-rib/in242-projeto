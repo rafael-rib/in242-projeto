{
 "cells": [
  {
   "cell_type": "code",
   "execution_count": 1,
   "metadata": {},
   "outputs": [],
   "source": [
    "#Importa bibliotecas para o projeto\n",
    "from pymongo import MongoClient\n",
    "import pandas as pd\n",
    "from datetime import date\n",
    "from datetime import datetime"
   ]
  },
  {
   "cell_type": "code",
   "execution_count": 2,
   "metadata": {},
   "outputs": [],
   "source": [
    "#EXTRACT\n",
    "mongo_client = MongoClient('18.229.94.95', 27018)\n",
    "mongo_db = mongo_client['in242_projeto']\n",
    "mongo_collection = mongo_db['controle_acesso']\n",
    "\n",
    "query = mongo_collection.find({})\n",
    "df = pd.DataFrame.from_records(query)"
   ]
  },
  {
   "cell_type": "code",
   "execution_count": 3,
   "metadata": {},
   "outputs": [],
   "source": [
    "#TRANSFORM\n",
    "df_result = df.copy()\n",
    "df_result['hora']=0\n",
    "dates = pd.RangeIndex(0,df_result.shape[0],1)\n",
    "numLinhas = range(df_result.shape[0])\n",
    "\n",
    "for i in numLinhas:\n",
    "    s = df_result['Horario']\n",
    "    horas = s[dates[i]][11]+s[dates[i]][12]\n",
    "    df_result.at[i,'hora'] = horas\n"
   ]
  },
  {
   "cell_type": "code",
   "execution_count": 4,
   "metadata": {},
   "outputs": [
    {
     "data": {
      "text/html": [
       "<div>\n",
       "<style scoped>\n",
       "    .dataframe tbody tr th:only-of-type {\n",
       "        vertical-align: middle;\n",
       "    }\n",
       "\n",
       "    .dataframe tbody tr th {\n",
       "        vertical-align: top;\n",
       "    }\n",
       "\n",
       "    .dataframe thead th {\n",
       "        text-align: right;\n",
       "    }\n",
       "</style>\n",
       "<table border=\"1\" class=\"dataframe\">\n",
       "  <thead>\n",
       "    <tr style=\"text-align: right;\">\n",
       "      <th></th>\n",
       "      <th>_id</th>\n",
       "      <th>cliente</th>\n",
       "      <th>Porta</th>\n",
       "      <th>Quantidade</th>\n",
       "      <th>Horario</th>\n",
       "      <th>hora</th>\n",
       "    </tr>\n",
       "  </thead>\n",
       "  <tbody>\n",
       "    <tr>\n",
       "      <th>0</th>\n",
       "      <td>5f83ef6d4bd9e4d9e4b4ef5c</td>\n",
       "      <td>Inatel</td>\n",
       "      <td>Porta de entrada</td>\n",
       "      <td>11</td>\n",
       "      <td>10/12/20 - 02:53:49</td>\n",
       "      <td>2</td>\n",
       "    </tr>\n",
       "    <tr>\n",
       "      <th>1</th>\n",
       "      <td>5f83ef6e4bd9e4d9e4b4ef5d</td>\n",
       "      <td>Inatel</td>\n",
       "      <td>Porta de entrada</td>\n",
       "      <td>7</td>\n",
       "      <td>10/12/20 - 02:53:50</td>\n",
       "      <td>2</td>\n",
       "    </tr>\n",
       "    <tr>\n",
       "      <th>2</th>\n",
       "      <td>5f83ef6f4bd9e4d9e4b4ef5e</td>\n",
       "      <td>Inatel</td>\n",
       "      <td>Porta de entrada</td>\n",
       "      <td>12</td>\n",
       "      <td>10/12/20 - 02:53:51</td>\n",
       "      <td>2</td>\n",
       "    </tr>\n",
       "    <tr>\n",
       "      <th>3</th>\n",
       "      <td>5f83ef704bd9e4d9e4b4ef5f</td>\n",
       "      <td>Inatel</td>\n",
       "      <td>Porta de entrada</td>\n",
       "      <td>3</td>\n",
       "      <td>10/12/20 - 02:53:52</td>\n",
       "      <td>2</td>\n",
       "    </tr>\n",
       "    <tr>\n",
       "      <th>4</th>\n",
       "      <td>5f83ef714bd9e4d9e4b4ef60</td>\n",
       "      <td>Inatel</td>\n",
       "      <td>Porta de entrada</td>\n",
       "      <td>9</td>\n",
       "      <td>10/12/20 - 02:53:53</td>\n",
       "      <td>2</td>\n",
       "    </tr>\n",
       "    <tr>\n",
       "      <th>...</th>\n",
       "      <td>...</td>\n",
       "      <td>...</td>\n",
       "      <td>...</td>\n",
       "      <td>...</td>\n",
       "      <td>...</td>\n",
       "      <td>...</td>\n",
       "    </tr>\n",
       "    <tr>\n",
       "      <th>2134</th>\n",
       "      <td>5f84e8244bd9e4d9e4b4f7b2</td>\n",
       "      <td>Inatel</td>\n",
       "      <td>Porta de entrada</td>\n",
       "      <td>9</td>\n",
       "      <td>10/12/20 - 20:35:00</td>\n",
       "      <td>20</td>\n",
       "    </tr>\n",
       "    <tr>\n",
       "      <th>2135</th>\n",
       "      <td>5f84e82e4bd9e4d9e4b4f7b3</td>\n",
       "      <td>Inatel</td>\n",
       "      <td>Porta de entrada</td>\n",
       "      <td>11</td>\n",
       "      <td>10/12/20 - 20:35:10</td>\n",
       "      <td>20</td>\n",
       "    </tr>\n",
       "    <tr>\n",
       "      <th>2136</th>\n",
       "      <td>5f84e8384bd9e4d9e4b4f7b4</td>\n",
       "      <td>Inatel</td>\n",
       "      <td>Porta de entrada</td>\n",
       "      <td>7</td>\n",
       "      <td>10/12/20 - 20:35:20</td>\n",
       "      <td>20</td>\n",
       "    </tr>\n",
       "    <tr>\n",
       "      <th>2137</th>\n",
       "      <td>5f84e8424bd9e4d9e4b4f7b5</td>\n",
       "      <td>Inatel</td>\n",
       "      <td>Porta de entrada</td>\n",
       "      <td>12</td>\n",
       "      <td>10/12/20 - 20:35:30</td>\n",
       "      <td>20</td>\n",
       "    </tr>\n",
       "    <tr>\n",
       "      <th>2138</th>\n",
       "      <td>5f84e84c4bd9e4d9e4b4f7b6</td>\n",
       "      <td>Inatel</td>\n",
       "      <td>Porta de entrada</td>\n",
       "      <td>1</td>\n",
       "      <td>10/12/20 - 20:35:40</td>\n",
       "      <td>20</td>\n",
       "    </tr>\n",
       "  </tbody>\n",
       "</table>\n",
       "<p>2139 rows × 6 columns</p>\n",
       "</div>"
      ],
      "text/plain": [
       "                           _id cliente             Porta  Quantidade  \\\n",
       "0     5f83ef6d4bd9e4d9e4b4ef5c  Inatel  Porta de entrada          11   \n",
       "1     5f83ef6e4bd9e4d9e4b4ef5d  Inatel  Porta de entrada           7   \n",
       "2     5f83ef6f4bd9e4d9e4b4ef5e  Inatel  Porta de entrada          12   \n",
       "3     5f83ef704bd9e4d9e4b4ef5f  Inatel  Porta de entrada           3   \n",
       "4     5f83ef714bd9e4d9e4b4ef60  Inatel  Porta de entrada           9   \n",
       "...                        ...     ...               ...         ...   \n",
       "2134  5f84e8244bd9e4d9e4b4f7b2  Inatel  Porta de entrada           9   \n",
       "2135  5f84e82e4bd9e4d9e4b4f7b3  Inatel  Porta de entrada          11   \n",
       "2136  5f84e8384bd9e4d9e4b4f7b4  Inatel  Porta de entrada           7   \n",
       "2137  5f84e8424bd9e4d9e4b4f7b5  Inatel  Porta de entrada          12   \n",
       "2138  5f84e84c4bd9e4d9e4b4f7b6  Inatel  Porta de entrada           1   \n",
       "\n",
       "                  Horario  hora  \n",
       "0     10/12/20 - 02:53:49     2  \n",
       "1     10/12/20 - 02:53:50     2  \n",
       "2     10/12/20 - 02:53:51     2  \n",
       "3     10/12/20 - 02:53:52     2  \n",
       "4     10/12/20 - 02:53:53     2  \n",
       "...                   ...   ...  \n",
       "2134  10/12/20 - 20:35:00    20  \n",
       "2135  10/12/20 - 20:35:10    20  \n",
       "2136  10/12/20 - 20:35:20    20  \n",
       "2137  10/12/20 - 20:35:30    20  \n",
       "2138  10/12/20 - 20:35:40    20  \n",
       "\n",
       "[2139 rows x 6 columns]"
      ]
     },
     "execution_count": 4,
     "metadata": {},
     "output_type": "execute_result"
    }
   ],
   "source": [
    "df_result"
   ]
  },
  {
   "cell_type": "code",
   "execution_count": 5,
   "metadata": {},
   "outputs": [],
   "source": [
    "df_final = df_result.groupby('hora')['Quantidade'].sum()"
   ]
  },
  {
   "cell_type": "code",
   "execution_count": 6,
   "metadata": {},
   "outputs": [
    {
     "data": {
      "text/plain": [
       "hora\n",
       "2     2604\n",
       "3     3030\n",
       "4     2661\n",
       "5     2579\n",
       "6     2528\n",
       "7     1571\n",
       "20     429\n",
       "Name: Quantidade, dtype: int64"
      ]
     },
     "execution_count": 6,
     "metadata": {},
     "output_type": "execute_result"
    }
   ],
   "source": [
    "df_final"
   ]
  },
  {
   "cell_type": "code",
   "execution_count": 7,
   "metadata": {},
   "outputs": [
    {
     "data": {
      "text/plain": [
       "<matplotlib.axes._subplots.AxesSubplot at 0x7f6d20073d60>"
      ]
     },
     "execution_count": 7,
     "metadata": {},
     "output_type": "execute_result"
    },
    {
     "data": {
      "image/png": "[encoded data removed]",
      "text/plain": [
       "<Figure size 432x288 with 1 Axes>"
      ]
     },
     "metadata": {
      "needs_background": "light"
     },
     "output_type": "display_data"
    }
   ],
   "source": [
    "#PRENSENTATION\n",
    "df_final.plot.bar(title='Quantidade de acesso - Porta de entrada / HORA',legend=True)"
   ]
  },
  {
   "cell_type": "code",
   "execution_count": 8,
   "metadata": {},
   "outputs": [],
   "source": [
    "# Professor, coloquei o gráfico pela quantidade de acesso por hora, pois não tinha os dados para quantidade\n",
    "# de acessos por dia"
   ]
  },
  {
   "cell_type": "code",
   "execution_count": null,
   "metadata": {},
   "outputs": [],
   "source": []
  }
 ],
 "metadata": {
  "kernelspec": {
   "display_name": "Python 3",
   "language": "python",
   "name": "python3"
  },
  "language_info": {
   "codemirror_mode": {
    "name": "ipython",
    "version": 3
   },
   "file_extension": ".py",
   "mimetype": "text/x-python",
   "name": "python",
   "nbconvert_exporter": "python",
   "pygments_lexer": "ipython3",
   "version": "3.8.3"
  }
 },
 "nbformat": 4,
 "nbformat_minor": 4
}
