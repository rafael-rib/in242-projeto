{
 "cells": [
  {
   "cell_type": "code",
   "execution_count": 1,
   "metadata": {},
   "outputs": [],
   "source": [
    "from pymongo import MongoClient\n",
    "import pandas as pd"
   ]
  },
  {
   "cell_type": "code",
   "execution_count": 2,
   "metadata": {},
   "outputs": [],
   "source": [
    "mongo_client = MongoClient('18.229.94.95', 27018)\n",
    "mongo_db = mongo_client['in242_projeto']\n",
    "mongo_collection = mongo_db['controle_acesso']"
   ]
  },
  {
   "cell_type": "code",
   "execution_count": 3,
   "metadata": {},
   "outputs": [],
   "source": [
    "query = mongo_collection.find({})"
   ]
  },
  {
   "cell_type": "code",
   "execution_count": 4,
   "metadata": {},
   "outputs": [],
   "source": [
    "df = pd.DataFrame.from_records(query)"
   ]
  },
  {
   "cell_type": "code",
   "execution_count": 5,
   "metadata": {},
   "outputs": [
    {
     "data": {
      "text/html": [
       "<div>\n",
       "<style scoped>\n",
       "    .dataframe tbody tr th:only-of-type {\n",
       "        vertical-align: middle;\n",
       "    }\n",
       "\n",
       "    .dataframe tbody tr th {\n",
       "        vertical-align: top;\n",
       "    }\n",
       "\n",
       "    .dataframe thead th {\n",
       "        text-align: right;\n",
       "    }\n",
       "</style>\n",
       "<table border=\"1\" class=\"dataframe\">\n",
       "  <thead>\n",
       "    <tr style=\"text-align: right;\">\n",
       "      <th></th>\n",
       "      <th>_id</th>\n",
       "      <th>cliente</th>\n",
       "      <th>Porta</th>\n",
       "      <th>Quantidade</th>\n",
       "      <th>Horario</th>\n",
       "    </tr>\n",
       "  </thead>\n",
       "  <tbody>\n",
       "    <tr>\n",
       "      <th>0</th>\n",
       "      <td>5f83ef6d4bd9e4d9e4b4ef5c</td>\n",
       "      <td>Inatel</td>\n",
       "      <td>Porta de entrada</td>\n",
       "      <td>11</td>\n",
       "      <td>10/12/20 - 02:53:49</td>\n",
       "    </tr>\n",
       "    <tr>\n",
       "      <th>1</th>\n",
       "      <td>5f83ef6e4bd9e4d9e4b4ef5d</td>\n",
       "      <td>Inatel</td>\n",
       "      <td>Porta de entrada</td>\n",
       "      <td>7</td>\n",
       "      <td>10/12/20 - 02:53:50</td>\n",
       "    </tr>\n",
       "    <tr>\n",
       "      <th>2</th>\n",
       "      <td>5f83ef6f4bd9e4d9e4b4ef5e</td>\n",
       "      <td>Inatel</td>\n",
       "      <td>Porta de entrada</td>\n",
       "      <td>12</td>\n",
       "      <td>10/12/20 - 02:53:51</td>\n",
       "    </tr>\n",
       "    <tr>\n",
       "      <th>3</th>\n",
       "      <td>5f83ef704bd9e4d9e4b4ef5f</td>\n",
       "      <td>Inatel</td>\n",
       "      <td>Porta de entrada</td>\n",
       "      <td>3</td>\n",
       "      <td>10/12/20 - 02:53:52</td>\n",
       "    </tr>\n",
       "    <tr>\n",
       "      <th>4</th>\n",
       "      <td>5f83ef714bd9e4d9e4b4ef60</td>\n",
       "      <td>Inatel</td>\n",
       "      <td>Porta de entrada</td>\n",
       "      <td>9</td>\n",
       "      <td>10/12/20 - 02:53:53</td>\n",
       "    </tr>\n",
       "  </tbody>\n",
       "</table>\n",
       "</div>"
      ],
      "text/plain": [
       "                        _id cliente             Porta  Quantidade  \\\n",
       "0  5f83ef6d4bd9e4d9e4b4ef5c  Inatel  Porta de entrada          11   \n",
       "1  5f83ef6e4bd9e4d9e4b4ef5d  Inatel  Porta de entrada           7   \n",
       "2  5f83ef6f4bd9e4d9e4b4ef5e  Inatel  Porta de entrada          12   \n",
       "3  5f83ef704bd9e4d9e4b4ef5f  Inatel  Porta de entrada           3   \n",
       "4  5f83ef714bd9e4d9e4b4ef60  Inatel  Porta de entrada           9   \n",
       "\n",
       "               Horario  \n",
       "0  10/12/20 - 02:53:49  \n",
       "1  10/12/20 - 02:53:50  \n",
       "2  10/12/20 - 02:53:51  \n",
       "3  10/12/20 - 02:53:52  \n",
       "4  10/12/20 - 02:53:53  "
      ]
     },
     "execution_count": 5,
     "metadata": {},
     "output_type": "execute_result"
    }
   ],
   "source": [
    "df.head()"
   ]
  }
 ],
 "metadata": {
  "kernelspec": {
   "display_name": "Python 3",
   "language": "python",
   "name": "python3"
  },
  "language_info": {
   "codemirror_mode": {
    "name": "ipython",
    "version": 3
   },
   "file_extension": ".py",
   "mimetype": "text/x-python",
   "name": "python",
   "nbconvert_exporter": "python",
   "pygments_lexer": "ipython3",
   "version": "3.8.3"
  }
 },
 "nbformat": 4,
 "nbformat_minor": 4
}
